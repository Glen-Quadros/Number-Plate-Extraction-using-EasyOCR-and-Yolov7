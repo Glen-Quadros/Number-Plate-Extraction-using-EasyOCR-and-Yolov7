{
 "cells": [
  {
   "cell_type": "code",
   "execution_count": 1,
   "metadata": {
    "id": "kJAbEqn_NXL-"
   },
   "outputs": [
    {
     "name": "stderr",
     "output_type": "stream",
     "text": [
      "/Users/glenquadros/opt/anaconda3/envs/New_Environment/lib/python3.10/site-packages/tqdm/auto.py:21: TqdmWarning: IProgress not found. Please update jupyter and ipywidgets. See https://ipywidgets.readthedocs.io/en/stable/user_install.html\n",
      "  from .autonotebook import tqdm as notebook_tqdm\n"
     ]
    },
    {
     "ename": "ModuleNotFoundError",
     "evalue": "No module named 'imutils'",
     "output_type": "error",
     "traceback": [
      "\u001b[0;31m---------------------------------------------------------------------------\u001b[0m",
      "\u001b[0;31mModuleNotFoundError\u001b[0m                       Traceback (most recent call last)",
      "Input \u001b[0;32mIn [1]\u001b[0m, in \u001b[0;36m<cell line: 5>\u001b[0;34m()\u001b[0m\n\u001b[1;32m      3\u001b[0m \u001b[38;5;28;01mimport\u001b[39;00m \u001b[38;5;21;01mcv2\u001b[39;00m\n\u001b[1;32m      4\u001b[0m \u001b[38;5;28;01mimport\u001b[39;00m \u001b[38;5;21;01measyocr\u001b[39;00m\n\u001b[0;32m----> 5\u001b[0m \u001b[38;5;28;01mimport\u001b[39;00m \u001b[38;5;21;01mimutils\u001b[39;00m\n",
      "\u001b[0;31mModuleNotFoundError\u001b[0m: No module named 'imutils'"
     ]
    }
   ],
   "source": [
    "import numpy as np\n",
    "import matplotlib.pyplot as plt\n",
    "import cv2\n",
    "import easyocr\n",
    "import imutils"
   ]
  },
  {
   "cell_type": "code",
   "execution_count": null,
   "metadata": {
    "id": "9Wt-elu_NuPr"
   },
   "outputs": [],
   "source": [
    "img = cv2.imread('/content/Cars1.png')"
   ]
  },
  {
   "cell_type": "code",
   "execution_count": null,
   "metadata": {
    "id": "n7kFK4l7OSTN"
   },
   "outputs": [],
   "source": [
    "greyscale_img = cv2.cvtColor(img, cv2.COLOR_BGR2GRAY)"
   ]
  },
  {
   "cell_type": "code",
   "execution_count": null,
   "metadata": {
    "colab": {
     "base_uri": "https://localhost:8080/",
     "height": 390
    },
    "id": "AgfNLX64Okbe",
    "outputId": "8e31fd9c-e146-4e04-d4bc-fdb62b12e65b"
   },
   "outputs": [],
   "source": [
    "plt.imshow(cv2.cvtColor(greyscale_img, cv2.COLOR_BGR2RGB))"
   ]
  },
  {
   "cell_type": "code",
   "execution_count": null,
   "metadata": {
    "colab": {
     "base_uri": "https://localhost:8080/",
     "height": 120
    },
    "id": "wCV3xiTAO2Cd",
    "outputId": "224e225b-e390-4bfa-885f-739794b5f5ab"
   },
   "outputs": [],
   "source": [
    "bfilter = cv2.bilateralFilter(greyscale_img, 11, 17, 17)\n",
    "\n",
    "\"\"\"\n",
    "The bilateral filter is a non-linear filter that preserves the edges while reducing noise in an image.\n",
    "\n",
    "cv2.bilateralFilter(input, diameter of each pixel neighborhood, sigmaColor, sigmaSpace)\n",
    "\n",
    "sigmaColor: This parameter controls the filter's effect on color space. \n",
    "A higher value means that the pixels with a larger color difference will \n",
    "have less influence on each other during the filtering process. \n",
    "\n",
    "sigmaSpace: This parameter determines the filter's effect on spatial space. \n",
    "A higher value means that pixels farther away from the center pixel will have \n",
    "less influence on its filtering process.\n",
    "\"\"\""
   ]
  },
  {
   "cell_type": "code",
   "execution_count": null,
   "metadata": {
    "colab": {
     "base_uri": "https://localhost:8080/",
     "height": 86
    },
    "id": "t37w1RYYQWE3",
    "outputId": "96c0108f-9c6e-42b4-edb5-5006b5540cd5"
   },
   "outputs": [],
   "source": [
    "edged = cv2.Canny(bfilter, 30, 30)\n",
    "\n",
    "'''\n",
    "Canny algirithm requires greyscale image.\n",
    "\n",
    "The cv2.Canny() function takes the filtered image (bfilter) as the input and \n",
    "applies the Canny edge detection algorithm.\n",
    "\n",
    "The first threshold (30 in this case) is the lower threshold. Any gradient value \n",
    "below this threshold is considered non-edge and suppressed.\n",
    "The second threshold (30 here) is the upper threshold. Any gradient value above \n",
    "this threshold is considered an edge.\n",
    "'''"
   ]
  },
  {
   "cell_type": "code",
   "execution_count": null,
   "metadata": {
    "colab": {
     "base_uri": "https://localhost:8080/",
     "height": 390
    },
    "id": "rUN-eYsYQ4wG",
    "outputId": "5268b028-9f7d-47ec-abeb-366b27ece2b7"
   },
   "outputs": [],
   "source": [
    "plt.imshow(cv2.cvtColor(edged, cv2.COLOR_BGR2RGB))"
   ]
  },
  {
   "cell_type": "code",
   "execution_count": null,
   "metadata": {
    "colab": {
     "base_uri": "https://localhost:8080/",
     "height": 69
    },
    "id": "zDY_90siRhPL",
    "outputId": "1a20a31e-eed7-4016-a354-684245badba5"
   },
   "outputs": [],
   "source": [
    "keypoints = cv2.findContours(edged.copy(), cv2.RETR_TREE, cv2.CHAIN_APPROX_SIMPLE)\n",
    "\n",
    "'''\n",
    "cv2.RETR_TREE retrieves all contours and reconstructs a full hierarchy of nested contours.\n",
    "\n",
    "cv2.CHAIN_APPROX_SIMPLE: This parameter specifies the contour approximation method. It compresses \n",
    "horizontal, vertical, and diagonal segments into their respective end points, saving memory by \n",
    "discarding unnecessary points. \n",
    "'''"
   ]
  },
  {
   "cell_type": "code",
   "execution_count": null,
   "metadata": {
    "colab": {
     "base_uri": "https://localhost:8080/",
     "height": 52
    },
    "id": "jPCxKSygR-hI",
    "outputId": "48f326c9-866b-4728-93a6-14652ff065d4"
   },
   "outputs": [],
   "source": [
    "contours = imutils.grab_contours(keypoints)\n",
    "\n",
    "'''\n",
    "the function extracts and returns the actual contours. The resulting contours are stored in the contour variable.\n",
    "'''"
   ]
  },
  {
   "cell_type": "code",
   "execution_count": null,
   "metadata": {
    "colab": {
     "base_uri": "https://localhost:8080/",
     "height": 35
    },
    "id": "ncgjncAzR_n3",
    "outputId": "7534ca42-14a6-43e2-87ec-be1d15264e27"
   },
   "outputs": [],
   "source": [
    "contours = sorted(contours, key = cv2.contourArea, reverse = True)[:10]\n",
    "\n",
    "'''\n",
    "cv2.contourArea: It is a function provided by OpenCV that calculates the area of a contour.\n",
    "'''"
   ]
  },
  {
   "cell_type": "code",
   "execution_count": null,
   "metadata": {
    "colab": {
     "base_uri": "https://localhost:8080/",
     "height": 69
    },
    "id": "-yMiGcalTHGV",
    "outputId": "5555ebb9-c1b8-45e2-8286-3c2d519e5f85"
   },
   "outputs": [],
   "source": [
    "location = None\n",
    "for contour in contours: \n",
    "  approx = cv2.approxPolyDP(contour, 10, True)\n",
    "  if len(approx) == 4: # To find a rectangle/quadrilateral\n",
    "    location = approx\n",
    "    break\n",
    "\n",
    "'''\n",
    "approx = cv2.approxPolyDP(contour, 10, True): Applies the Douglas-Peucker algorithm \n",
    "(approxPolyDP) to approximate the contour shape with a simpler polygon. It reduces \n",
    "the number of vertices in the contour. 10 parameter round off the shape The True parameter \n",
    "indicates that the contour is closed.\n",
    "'''"
   ]
  },
  {
   "cell_type": "code",
   "execution_count": null,
   "metadata": {
    "id": "jtnEFNYYUqwU"
   },
   "outputs": [],
   "source": [
    "mask = np.zeros(greyscale_img.shape,np.uint8)"
   ]
  },
  {
   "cell_type": "code",
   "execution_count": null,
   "metadata": {
    "colab": {
     "base_uri": "https://localhost:8080/",
     "height": 86
    },
    "id": "qJsaWaILVyb9",
    "outputId": "e9ad94ee-c6a4-40ba-fe12-c2590880ea64"
   },
   "outputs": [],
   "source": [
    "new_image = cv2.drawContours(mask,[location],0,255,-1,)\n",
    "\n",
    "'''\n",
    "new_image = cv2.drawContours(mask, [location], 0, 255, -1): Draws the contour \n",
    "stored in the location variable onto the mask image. The cv2.drawContours() \n",
    "function takes the mask image, the contour ([location] as a list of contours), \n",
    "the contour index (0 in this case), the color (255 for white), and the thickness \n",
    "(-1 fills the contour with the specified color).\n",
    "'''"
   ]
  },
  {
   "cell_type": "code",
   "execution_count": null,
   "metadata": {
    "id": "dK1oXMAIVzPQ"
   },
   "outputs": [],
   "source": [
    "new_image = cv2.bitwise_and(img,img,mask=mask)"
   ]
  },
  {
   "cell_type": "code",
   "execution_count": null,
   "metadata": {
    "colab": {
     "base_uri": "https://localhost:8080/",
     "height": 390
    },
    "id": "NYF6uQSrU9l_",
    "outputId": "3d1654e4-4fbe-43f4-fdaa-d25ccfd1624c"
   },
   "outputs": [],
   "source": [
    "plt.imshow(cv2.cvtColor(new_image, cv2.COLOR_BGR2RGB))"
   ]
  },
  {
   "cell_type": "code",
   "execution_count": null,
   "metadata": {
    "id": "XJClSY0bVQ15"
   },
   "outputs": [],
   "source": [
    "(x,y) = np.where(mask==255)\n",
    "(x1, y1) = (np.min(x), np.min(y))\n",
    "(x2, y2) = (np.max(x), np.max(y))\n",
    "cropped_image = greyscale_img[x1:x2+1, y1:y2+1]"
   ]
  },
  {
   "cell_type": "code",
   "execution_count": null,
   "metadata": {
    "colab": {
     "base_uri": "https://localhost:8080/",
     "height": 195
    },
    "id": "7HrGpmshW_LE",
    "outputId": "bee96e0b-1c09-496f-9d81-e5d41e393a9e"
   },
   "outputs": [],
   "source": [
    "plt.imshow(cv2.cvtColor(cropped_image, cv2.COLOR_BGR2RGB))"
   ]
  },
  {
   "cell_type": "code",
   "execution_count": null,
   "metadata": {
    "colab": {
     "base_uri": "https://localhost:8080/"
    },
    "id": "q0KezTfLXMD9",
    "outputId": "553c2964-8dd6-400d-e6d7-912d44888860"
   },
   "outputs": [],
   "source": [
    "# Use Easy OCR To Read Text\n",
    "\n",
    "reader = easyocr.Reader(['en'])"
   ]
  },
  {
   "cell_type": "code",
   "execution_count": null,
   "metadata": {
    "id": "6oQY3hWOXVQA"
   },
   "outputs": [],
   "source": [
    "result = reader.readtext(cropped_image)"
   ]
  },
  {
   "cell_type": "code",
   "execution_count": null,
   "metadata": {
    "colab": {
     "base_uri": "https://localhost:8080/"
    },
    "id": "wO6oMUm8Xafy",
    "outputId": "6ae6f6d5-c4b3-4feb-f2d9-435157e76e88"
   },
   "outputs": [],
   "source": [
    "print(f'The number plate of the car is: {result[0][1]}')"
   ]
  },
  {
   "cell_type": "code",
   "execution_count": null,
   "metadata": {
    "id": "XEA2tK4baErB"
   },
   "outputs": [],
   "source": []
  }
 ],
 "metadata": {
  "colab": {
   "provenance": []
  },
  "kernelspec": {
   "display_name": "Python 3 (ipykernel)",
   "language": "python",
   "name": "python3"
  },
  "language_info": {
   "codemirror_mode": {
    "name": "ipython",
    "version": 3
   },
   "file_extension": ".py",
   "mimetype": "text/x-python",
   "name": "python",
   "nbconvert_exporter": "python",
   "pygments_lexer": "ipython3",
   "version": "3.10.4"
  }
 },
 "nbformat": 4,
 "nbformat_minor": 1
}
